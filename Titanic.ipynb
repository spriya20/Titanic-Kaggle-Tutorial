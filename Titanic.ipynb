{
 "cells": [
  {
   "cell_type": "markdown",
   "metadata": {},
   "source": [
    "## Load Data"
   ]
  },
  {
   "cell_type": "code",
   "execution_count": 1,
   "metadata": {},
   "outputs": [],
   "source": [
    "import pandas as pd\n",
    "import numpy as np\n",
    "from sklearn.model_selection import train_test_split\n",
    "\n",
    "data = pd.read_csv(r\"data\\train.csv\", header=0,delimiter=\",\", quoting=1)\n",
    "# train, val = train_test_split(data)\n",
    "test = pd.read_csv(r\"data\\test.csv\", header=0,delimiter=\",\", quoting=1)"
   ]
  },
  {
   "cell_type": "markdown",
   "metadata": {},
   "source": [
    "## Data Exploration"
   ]
  },
  {
   "cell_type": "code",
   "execution_count": null,
   "metadata": {},
   "outputs": [],
   "source": [
    "data.describe(include=\"all\")"
   ]
  },
  {
   "cell_type": "code",
   "execution_count": null,
   "metadata": {},
   "outputs": [],
   "source": [
    "data.info()"
   ]
  },
  {
   "cell_type": "code",
   "execution_count": null,
   "metadata": {},
   "outputs": [],
   "source": [
    "data.isnull().sum()"
   ]
  },
  {
   "cell_type": "code",
   "execution_count": null,
   "metadata": {},
   "outputs": [],
   "source": [
    "test.isnull().sum()"
   ]
  },
  {
   "cell_type": "code",
   "execution_count": null,
   "metadata": {},
   "outputs": [],
   "source": [
    "survived = data[data[\"Survived\"]==1]\n",
    "not_survived = data[data[\"Survived\"]==0]\n",
    "print(len(survived),len(not_survived),len(data))\n",
    "print(data.Survived.mean())"
   ]
  },
  {
   "cell_type": "code",
   "execution_count": null,
   "metadata": {},
   "outputs": [],
   "source": [
    "data.groupby(\"Pclass\").Survived.mean()"
   ]
  },
  {
   "cell_type": "code",
   "execution_count": null,
   "metadata": {},
   "outputs": [],
   "source": [
    "pd.crosstab(data[\"Sex\"],[data[\"Pclass\"],data[\"Survived\"]])"
   ]
  },
  {
   "cell_type": "code",
   "execution_count": null,
   "metadata": {},
   "outputs": [],
   "source": [
    "data[[\"Embarked\",\"Survived\"]].groupby(\"Embarked\").mean()"
   ]
  },
  {
   "cell_type": "code",
   "execution_count": null,
   "metadata": {},
   "outputs": [],
   "source": [
    "data.Embarked.value_counts()"
   ]
  },
  {
   "cell_type": "code",
   "execution_count": null,
   "metadata": {},
   "outputs": [],
   "source": [
    "data.groupby(\"Pclass\").Fare.describe(include=\"all\")"
   ]
  },
  {
   "cell_type": "markdown",
   "metadata": {},
   "source": [
    "## Title"
   ]
  },
  {
   "cell_type": "code",
   "execution_count": 2,
   "metadata": {},
   "outputs": [],
   "source": [
    "train_test_data = [data, test]\n",
    "for dataset in train_test_data:\n",
    "    dataset[\"Title\"]=dataset.Name.str.extract(r\" ([A-z]\\w+)\\. \")"
   ]
  },
  {
   "cell_type": "code",
   "execution_count": 3,
   "metadata": {},
   "outputs": [],
   "source": [
    "test_Titles = test[\"Title\"].value_counts()\n",
    "data_Titles = data[\"Title\"].value_counts()\n",
    "data_survprob = data.groupby(\"Title\").Survived.mean()"
   ]
  },
  {
   "cell_type": "code",
   "execution_count": 4,
   "metadata": {},
   "outputs": [
    {
     "name": "stdout",
     "output_type": "stream",
     "text": [
      "           Data   Test  Survival Rate\n",
      "Capt        1.0    NaN       0.000000\n",
      "Col         2.0    2.0       0.500000\n",
      "Countess    1.0    NaN       1.000000\n",
      "Don         1.0    NaN       0.000000\n",
      "Dona        NaN    1.0            NaN\n",
      "Dr          7.0    1.0       0.428571\n",
      "Jonkheer    1.0    NaN       0.000000\n",
      "Lady        1.0    NaN       1.000000\n",
      "Major       2.0    NaN       0.500000\n",
      "Master     40.0   21.0       0.575000\n",
      "Miss      182.0   78.0       0.697802\n",
      "Mlle        2.0    NaN       1.000000\n",
      "Mme         1.0    NaN       1.000000\n",
      "Mr        517.0  240.0       0.156673\n",
      "Mrs       125.0   72.0       0.792000\n",
      "Ms          1.0    1.0       1.000000\n",
      "Rev         6.0    2.0       0.000000\n",
      "Sir         1.0    NaN       1.000000\n"
     ]
    }
   ],
   "source": [
    "comp = pd.DataFrame({\"Data\": data_Titles,\"Test\":test_Titles, \"Survival Rate\": data_survprob})\n",
    "print(comp)"
   ]
  },
  {
   "cell_type": "code",
   "execution_count": 5,
   "metadata": {},
   "outputs": [],
   "source": [
    "Titles = [\"Mr\", \"Miss\", \"Mrs\", \"Master\", \"Dr\", \"Rev\", \"Others\"]\n",
    "TitleMap = {Titles[i]:i for i in range(len(Titles))}"
   ]
  },
  {
   "cell_type": "code",
   "execution_count": 6,
   "metadata": {},
   "outputs": [],
   "source": [
    "for dataset in train_test_data:\n",
    "    dataset[\"Title\"] = dataset[\"Title\"].replace([\"Ms\",\"Mlle\",\"Mme\"],\"Miss\")\n",
    "    dataset[\"Title\"] = dataset[\"Title\"].apply(lambda title: title if title in Titles else \"Others\")\n",
    "    dataset[\"Title\"] = dataset[\"Title\"].map(TitleMap)"
   ]
  },
  {
   "cell_type": "markdown",
   "metadata": {},
   "source": [
    "## Missing Values\n",
    "\n",
    "Fill missing data - Data Imputation, Drop columns"
   ]
  },
  {
   "cell_type": "code",
   "execution_count": 54,
   "metadata": {},
   "outputs": [
    {
     "data": {
      "text/plain": [
       "PassengerId    0\n",
       "Survived       0\n",
       "Pclass         0\n",
       "Name           0\n",
       "Sex            0\n",
       "Age            0\n",
       "SibSp          0\n",
       "Parch          0\n",
       "Ticket         0\n",
       "Fare           0\n",
       "Embarked       0\n",
       "Title          0\n",
       "Emb            0\n",
       "dtype: int64"
      ]
     },
     "execution_count": 54,
     "metadata": {},
     "output_type": "execute_result"
    }
   ],
   "source": [
    "data.isnull().sum()"
   ]
  },
  {
   "cell_type": "code",
   "execution_count": 53,
   "metadata": {},
   "outputs": [
    {
     "data": {
      "text/plain": [
       "PassengerId    0\n",
       "Pclass         0\n",
       "Name           0\n",
       "Sex            0\n",
       "Age            0\n",
       "SibSp          0\n",
       "Parch          0\n",
       "Ticket         0\n",
       "Fare           0\n",
       "Embarked       0\n",
       "Title          0\n",
       "Emb            0\n",
       "dtype: int64"
      ]
     },
     "execution_count": 53,
     "metadata": {},
     "output_type": "execute_result"
    }
   ],
   "source": [
    "test.isnull().sum()"
   ]
  },
  {
   "cell_type": "code",
   "execution_count": 9,
   "metadata": {},
   "outputs": [
    {
     "data": {
      "text/html": [
       "<div>\n",
       "<style scoped>\n",
       "    .dataframe tbody tr th:only-of-type {\n",
       "        vertical-align: middle;\n",
       "    }\n",
       "\n",
       "    .dataframe tbody tr th {\n",
       "        vertical-align: top;\n",
       "    }\n",
       "\n",
       "    .dataframe thead th {\n",
       "        text-align: right;\n",
       "    }\n",
       "</style>\n",
       "<table border=\"1\" class=\"dataframe\">\n",
       "  <thead>\n",
       "    <tr style=\"text-align: right;\">\n",
       "      <th></th>\n",
       "      <th>count</th>\n",
       "      <th>mean</th>\n",
       "      <th>std</th>\n",
       "      <th>min</th>\n",
       "      <th>25%</th>\n",
       "      <th>50%</th>\n",
       "      <th>75%</th>\n",
       "      <th>max</th>\n",
       "    </tr>\n",
       "    <tr>\n",
       "      <th>Pclass</th>\n",
       "      <th></th>\n",
       "      <th></th>\n",
       "      <th></th>\n",
       "      <th></th>\n",
       "      <th></th>\n",
       "      <th></th>\n",
       "      <th></th>\n",
       "      <th></th>\n",
       "    </tr>\n",
       "  </thead>\n",
       "  <tbody>\n",
       "    <tr>\n",
       "      <th>1</th>\n",
       "      <td>216.0</td>\n",
       "      <td>84.154687</td>\n",
       "      <td>78.380373</td>\n",
       "      <td>0.0</td>\n",
       "      <td>30.92395</td>\n",
       "      <td>60.2875</td>\n",
       "      <td>93.5</td>\n",
       "      <td>512.3292</td>\n",
       "    </tr>\n",
       "    <tr>\n",
       "      <th>2</th>\n",
       "      <td>184.0</td>\n",
       "      <td>20.662183</td>\n",
       "      <td>13.417399</td>\n",
       "      <td>0.0</td>\n",
       "      <td>13.00000</td>\n",
       "      <td>14.2500</td>\n",
       "      <td>26.0</td>\n",
       "      <td>73.5000</td>\n",
       "    </tr>\n",
       "    <tr>\n",
       "      <th>3</th>\n",
       "      <td>491.0</td>\n",
       "      <td>13.675550</td>\n",
       "      <td>11.778142</td>\n",
       "      <td>0.0</td>\n",
       "      <td>7.75000</td>\n",
       "      <td>8.0500</td>\n",
       "      <td>15.5</td>\n",
       "      <td>69.5500</td>\n",
       "    </tr>\n",
       "  </tbody>\n",
       "</table>\n",
       "</div>"
      ],
      "text/plain": [
       "        count       mean        std  min       25%      50%   75%       max\n",
       "Pclass                                                                     \n",
       "1       216.0  84.154687  78.380373  0.0  30.92395  60.2875  93.5  512.3292\n",
       "2       184.0  20.662183  13.417399  0.0  13.00000  14.2500  26.0   73.5000\n",
       "3       491.0  13.675550  11.778142  0.0   7.75000   8.0500  15.5   69.5500"
      ]
     },
     "execution_count": 9,
     "metadata": {},
     "output_type": "execute_result"
    }
   ],
   "source": [
    "data.groupby(\"Pclass\").Fare.describe(include=\"all\")"
   ]
  },
  {
   "cell_type": "code",
   "execution_count": 10,
   "metadata": {},
   "outputs": [
    {
     "data": {
      "text/html": [
       "<div>\n",
       "<style scoped>\n",
       "    .dataframe tbody tr th:only-of-type {\n",
       "        vertical-align: middle;\n",
       "    }\n",
       "\n",
       "    .dataframe tbody tr th {\n",
       "        vertical-align: top;\n",
       "    }\n",
       "\n",
       "    .dataframe thead th {\n",
       "        text-align: right;\n",
       "    }\n",
       "</style>\n",
       "<table border=\"1\" class=\"dataframe\">\n",
       "  <thead>\n",
       "    <tr style=\"text-align: right;\">\n",
       "      <th></th>\n",
       "      <th>count</th>\n",
       "      <th>mean</th>\n",
       "      <th>std</th>\n",
       "      <th>min</th>\n",
       "      <th>25%</th>\n",
       "      <th>50%</th>\n",
       "      <th>75%</th>\n",
       "      <th>max</th>\n",
       "    </tr>\n",
       "    <tr>\n",
       "      <th>Pclass</th>\n",
       "      <th></th>\n",
       "      <th></th>\n",
       "      <th></th>\n",
       "      <th></th>\n",
       "      <th></th>\n",
       "      <th></th>\n",
       "      <th></th>\n",
       "      <th></th>\n",
       "    </tr>\n",
       "  </thead>\n",
       "  <tbody>\n",
       "    <tr>\n",
       "      <th>1</th>\n",
       "      <td>107.0</td>\n",
       "      <td>94.280297</td>\n",
       "      <td>84.435858</td>\n",
       "      <td>0.0000</td>\n",
       "      <td>30.10</td>\n",
       "      <td>60.0000</td>\n",
       "      <td>134.5</td>\n",
       "      <td>512.3292</td>\n",
       "    </tr>\n",
       "    <tr>\n",
       "      <th>2</th>\n",
       "      <td>93.0</td>\n",
       "      <td>22.202104</td>\n",
       "      <td>13.991877</td>\n",
       "      <td>9.6875</td>\n",
       "      <td>13.00</td>\n",
       "      <td>15.7500</td>\n",
       "      <td>26.0</td>\n",
       "      <td>73.5000</td>\n",
       "    </tr>\n",
       "    <tr>\n",
       "      <th>3</th>\n",
       "      <td>217.0</td>\n",
       "      <td>12.459678</td>\n",
       "      <td>10.803698</td>\n",
       "      <td>3.1708</td>\n",
       "      <td>7.75</td>\n",
       "      <td>7.8958</td>\n",
       "      <td>14.4</td>\n",
       "      <td>69.5500</td>\n",
       "    </tr>\n",
       "  </tbody>\n",
       "</table>\n",
       "</div>"
      ],
      "text/plain": [
       "        count       mean        std     min    25%      50%    75%       max\n",
       "Pclass                                                                      \n",
       "1       107.0  94.280297  84.435858  0.0000  30.10  60.0000  134.5  512.3292\n",
       "2        93.0  22.202104  13.991877  9.6875  13.00  15.7500   26.0   73.5000\n",
       "3       217.0  12.459678  10.803698  3.1708   7.75   7.8958   14.4   69.5500"
      ]
     },
     "execution_count": 10,
     "metadata": {},
     "output_type": "execute_result"
    }
   ],
   "source": [
    "test.groupby(\"Pclass\").Fare.describe(include=\"all\")"
   ]
  },
  {
   "cell_type": "code",
   "execution_count": 16,
   "metadata": {},
   "outputs": [
    {
     "data": {
      "text/html": [
       "<div>\n",
       "<style scoped>\n",
       "    .dataframe tbody tr th:only-of-type {\n",
       "        vertical-align: middle;\n",
       "    }\n",
       "\n",
       "    .dataframe tbody tr th {\n",
       "        vertical-align: top;\n",
       "    }\n",
       "\n",
       "    .dataframe thead th {\n",
       "        text-align: right;\n",
       "    }\n",
       "</style>\n",
       "<table border=\"1\" class=\"dataframe\">\n",
       "  <thead>\n",
       "    <tr style=\"text-align: right;\">\n",
       "      <th></th>\n",
       "      <th>PassengerId</th>\n",
       "      <th>Pclass</th>\n",
       "      <th>Name</th>\n",
       "      <th>Sex</th>\n",
       "      <th>Age</th>\n",
       "      <th>SibSp</th>\n",
       "      <th>Parch</th>\n",
       "      <th>Ticket</th>\n",
       "      <th>Fare</th>\n",
       "      <th>Embarked</th>\n",
       "      <th>Title</th>\n",
       "      <th>Emb</th>\n",
       "    </tr>\n",
       "  </thead>\n",
       "  <tbody>\n",
       "  </tbody>\n",
       "</table>\n",
       "</div>"
      ],
      "text/plain": [
       "Empty DataFrame\n",
       "Columns: [PassengerId, Pclass, Name, Sex, Age, SibSp, Parch, Ticket, Fare, Embarked, Title, Emb]\n",
       "Index: []"
      ]
     },
     "execution_count": 16,
     "metadata": {},
     "output_type": "execute_result"
    }
   ],
   "source": [
    "test.loc[test.Fare.isnull()]"
   ]
  },
  {
   "cell_type": "code",
   "execution_count": 30,
   "metadata": {},
   "outputs": [],
   "source": [
    "# Data Cleaning\n",
    "train_test_data = [data, test]\n",
    "for dataset in train_test_data:\n",
    "    # dataset.drop(\"Cabin\",axis=1,inplace=True)\n",
    "    dataset[\"Embarked\"] = dataset.Embarked.fillna(\"S\")\n",
    "    dataset[\"Fare\"] = dataset.Fare.fillna(13.0)\n",
    "    dataset[\"Emb\"] = dataset[\"Embarked\"].map({\"C\":1,\"Q\":2,\"S\":3}).astype(\"category\")\n",
    "    dataset[\"Sex\"] = dataset[\"Sex\"].map({\"female\":0, \"male\":1}).astype(\"category\")"
   ]
  },
  {
   "cell_type": "markdown",
   "metadata": {},
   "source": [
    "### Interpolate Age"
   ]
  },
  {
   "cell_type": "code",
   "execution_count": 31,
   "metadata": {},
   "outputs": [],
   "source": [
    "train_test_data = [data, test]\n",
    "for dataset in train_test_data:\n",
    "    dataset[\"Age\"] = np.ceil(dataset[\"Age\"])"
   ]
  },
  {
   "cell_type": "code",
   "execution_count": 32,
   "metadata": {},
   "outputs": [],
   "source": [
    "features = [\"Pclass\",\"Sex\",\"SibSp\",\"Parch\",\"Fare\",\"Title\",\"Emb\"]"
   ]
  },
  {
   "cell_type": "code",
   "execution_count": 33,
   "metadata": {},
   "outputs": [],
   "source": [
    "data_null_idx = data.Age.isnull()\n",
    "test_null_idx = test.Age.isnull()\n",
    "data_null = data.loc[data_null_idx][features]\n",
    "data_X = data.loc[~data_null_idx][features]\n",
    "data_Y = data.loc[~data_null_idx][\"Age\"]\n",
    "test_null = test.loc[test_null_idx][features]\n",
    "test_X = test.loc[~test_null_idx][features]\n",
    "test_Y = test.loc[~test_null_idx][\"Age\"]\n"
   ]
  },
  {
   "cell_type": "code",
   "execution_count": 34,
   "metadata": {},
   "outputs": [],
   "source": [
    "train_X = pd.concat([data_X,test_X])\n",
    "train_Y = pd.concat([data_Y,test_Y])"
   ]
  },
  {
   "cell_type": "code",
   "execution_count": 44,
   "metadata": {},
   "outputs": [],
   "source": [
    "from sklearn.neural_network import MLPRegressor\n",
    "regr = MLPRegressor(max_iter=1000,early_stopping=True).fit(train_X.values, train_Y.values)"
   ]
  },
  {
   "cell_type": "code",
   "execution_count": 51,
   "metadata": {},
   "outputs": [],
   "source": [
    "data_age = regr.predict(data_null.values)\n",
    "test_age = regr.predict(test_null.values)"
   ]
  },
  {
   "cell_type": "code",
   "execution_count": 52,
   "metadata": {},
   "outputs": [],
   "source": [
    "data.loc[data_null_idx,\"Age\"] = np.ceil(data_age)\n",
    "test.loc[test_null_idx,\"Age\"] = np.ceil(test_age)"
   ]
  },
  {
   "cell_type": "markdown",
   "metadata": {},
   "source": [
    "## Age Bands"
   ]
  },
  {
   "cell_type": "code",
   "execution_count": null,
   "metadata": {},
   "outputs": [],
   "source": [
    "agebands = [0,1,2,3,4,5]\n",
    "data[\"AgeBands\"]=pd.cut(data[\"Age\"],bins=[0,5,18,35,50,65,85],labels=agebands)\n",
    "# data[\"AgeBands\"]=pd.cut(data[\"Age\"],bins=10)"
   ]
  },
  {
   "cell_type": "code",
   "execution_count": null,
   "metadata": {},
   "outputs": [],
   "source": [
    "data[[\"Survived\",\"AgeBands\"]].groupby(\"AgeBands\").mean()"
   ]
  },
  {
   "cell_type": "markdown",
   "metadata": {},
   "source": [
    "## Family Size"
   ]
  },
  {
   "cell_type": "code",
   "execution_count": 55,
   "metadata": {},
   "outputs": [],
   "source": [
    "famlabels = [0,1,2]\n",
    "train_test_data = [data, test]\n",
    "for dataset in train_test_data:\n",
    "    dataset[\"FamilySize\"] = dataset.SibSp + dataset.Parch +1\n",
    "    dataset[\"FamSize\"] = pd.cut(dataset[\"FamilySize\"],bins=[0,1,4,11],labels=famlabels)"
   ]
  },
  {
   "cell_type": "markdown",
   "metadata": {},
   "source": [
    "## Final Data Manipulation"
   ]
  },
  {
   "cell_type": "code",
   "execution_count": null,
   "metadata": {},
   "outputs": [],
   "source": [
    "Titles = [\"Mr\", \"Miss\", \"Mrs\", \"Master\", \"Dr\", \"Rev\", \"Others\"]\n",
    "TitleMap = {Titles[i]:i for i in range(len(Titles))}"
   ]
  },
  {
   "cell_type": "code",
   "execution_count": null,
   "metadata": {},
   "outputs": [],
   "source": [
    "famlabels = [0,1,2]\n",
    "train_test_data = [data, test]\n",
    "for dataset in train_test_data:\n",
    "    dataset[\"Title\"] = dataset.Name.str.extract(r\" ([A-z]\\w+)\\. \")\n",
    "    dataset[\"Sex\"] = dataset[\"Sex\"].map({\"female\":0, \"male\":1}).astype(\"category\")\n",
    "    dataset[\"Embarked\"] = dataset.Embarked.fillna(\"S\")\n",
    "    dataset[\"Emb\"] = dataset[\"Embarked\"].map({\"C\":1,\"Q\":2,\"S\":3}).astype(\"category\")\n",
    "    # dataset[\"Age\"] = dataset[\"Age\"].fillna(30)\n",
    "    dataset[\"FamilySize\"] = dataset.SibSp + dataset.Parch +1\n",
    "    dataset[\"FamSize\"] = pd.cut(dataset[\"FamilySize\"],bins=[0,1,4,11],labels=famlabels)\n",
    "    agebands = [0,1,2,3,4,5]\n",
    "    dataset[\"AgeBands\"]=pd.cut(dataset[\"Age\"],bins=[0,5,18,35,50,65,85],labels=agebands)\n",
    "    dataset[\"Pclass\"] = dataset[\"Pclass\"].astype(\"category\")\n",
    "    dataset[\"Title\"] = dataset[\"Title\"].replace([\"Ms\",\"Mlle\",\"Mme\"],\"Miss\")\n",
    "    dataset[\"Title\"] = dataset[\"Title\"].apply(lambda title: title if title in Titles else \"Others\")\n",
    "    dataset[\"Title\"] = dataset[\"Title\"].map(TitleMap)\n",
    "    "
   ]
  },
  {
   "cell_type": "code",
   "execution_count": 56,
   "metadata": {},
   "outputs": [
    {
     "data": {
      "text/html": [
       "<div>\n",
       "<style scoped>\n",
       "    .dataframe tbody tr th:only-of-type {\n",
       "        vertical-align: middle;\n",
       "    }\n",
       "\n",
       "    .dataframe tbody tr th {\n",
       "        vertical-align: top;\n",
       "    }\n",
       "\n",
       "    .dataframe thead th {\n",
       "        text-align: right;\n",
       "    }\n",
       "</style>\n",
       "<table border=\"1\" class=\"dataframe\">\n",
       "  <thead>\n",
       "    <tr style=\"text-align: right;\">\n",
       "      <th></th>\n",
       "      <th>PassengerId</th>\n",
       "      <th>Survived</th>\n",
       "      <th>Pclass</th>\n",
       "      <th>Name</th>\n",
       "      <th>Sex</th>\n",
       "      <th>Age</th>\n",
       "      <th>SibSp</th>\n",
       "      <th>Parch</th>\n",
       "      <th>Ticket</th>\n",
       "      <th>Fare</th>\n",
       "      <th>Embarked</th>\n",
       "      <th>Title</th>\n",
       "      <th>Emb</th>\n",
       "      <th>FamilySize</th>\n",
       "      <th>FamSize</th>\n",
       "    </tr>\n",
       "  </thead>\n",
       "  <tbody>\n",
       "    <tr>\n",
       "      <th>0</th>\n",
       "      <td>1</td>\n",
       "      <td>0</td>\n",
       "      <td>3</td>\n",
       "      <td>Braund, Mr. Owen Harris</td>\n",
       "      <td>1</td>\n",
       "      <td>22.0</td>\n",
       "      <td>1</td>\n",
       "      <td>0</td>\n",
       "      <td>A/5 21171</td>\n",
       "      <td>7.2500</td>\n",
       "      <td>S</td>\n",
       "      <td>0</td>\n",
       "      <td>3</td>\n",
       "      <td>2</td>\n",
       "      <td>1</td>\n",
       "    </tr>\n",
       "    <tr>\n",
       "      <th>1</th>\n",
       "      <td>2</td>\n",
       "      <td>1</td>\n",
       "      <td>1</td>\n",
       "      <td>Cumings, Mrs. John Bradley (Florence Briggs Th...</td>\n",
       "      <td>0</td>\n",
       "      <td>38.0</td>\n",
       "      <td>1</td>\n",
       "      <td>0</td>\n",
       "      <td>PC 17599</td>\n",
       "      <td>71.2833</td>\n",
       "      <td>C</td>\n",
       "      <td>2</td>\n",
       "      <td>1</td>\n",
       "      <td>2</td>\n",
       "      <td>1</td>\n",
       "    </tr>\n",
       "    <tr>\n",
       "      <th>2</th>\n",
       "      <td>3</td>\n",
       "      <td>1</td>\n",
       "      <td>3</td>\n",
       "      <td>Heikkinen, Miss. Laina</td>\n",
       "      <td>0</td>\n",
       "      <td>26.0</td>\n",
       "      <td>0</td>\n",
       "      <td>0</td>\n",
       "      <td>STON/O2. 3101282</td>\n",
       "      <td>7.9250</td>\n",
       "      <td>S</td>\n",
       "      <td>1</td>\n",
       "      <td>3</td>\n",
       "      <td>1</td>\n",
       "      <td>0</td>\n",
       "    </tr>\n",
       "    <tr>\n",
       "      <th>3</th>\n",
       "      <td>4</td>\n",
       "      <td>1</td>\n",
       "      <td>1</td>\n",
       "      <td>Futrelle, Mrs. Jacques Heath (Lily May Peel)</td>\n",
       "      <td>0</td>\n",
       "      <td>35.0</td>\n",
       "      <td>1</td>\n",
       "      <td>0</td>\n",
       "      <td>113803</td>\n",
       "      <td>53.1000</td>\n",
       "      <td>S</td>\n",
       "      <td>2</td>\n",
       "      <td>3</td>\n",
       "      <td>2</td>\n",
       "      <td>1</td>\n",
       "    </tr>\n",
       "    <tr>\n",
       "      <th>4</th>\n",
       "      <td>5</td>\n",
       "      <td>0</td>\n",
       "      <td>3</td>\n",
       "      <td>Allen, Mr. William Henry</td>\n",
       "      <td>1</td>\n",
       "      <td>35.0</td>\n",
       "      <td>0</td>\n",
       "      <td>0</td>\n",
       "      <td>373450</td>\n",
       "      <td>8.0500</td>\n",
       "      <td>S</td>\n",
       "      <td>0</td>\n",
       "      <td>3</td>\n",
       "      <td>1</td>\n",
       "      <td>0</td>\n",
       "    </tr>\n",
       "  </tbody>\n",
       "</table>\n",
       "</div>"
      ],
      "text/plain": [
       "   PassengerId  Survived  Pclass  \\\n",
       "0            1         0       3   \n",
       "1            2         1       1   \n",
       "2            3         1       3   \n",
       "3            4         1       1   \n",
       "4            5         0       3   \n",
       "\n",
       "                                                Name Sex   Age  SibSp  Parch  \\\n",
       "0                            Braund, Mr. Owen Harris   1  22.0      1      0   \n",
       "1  Cumings, Mrs. John Bradley (Florence Briggs Th...   0  38.0      1      0   \n",
       "2                             Heikkinen, Miss. Laina   0  26.0      0      0   \n",
       "3       Futrelle, Mrs. Jacques Heath (Lily May Peel)   0  35.0      1      0   \n",
       "4                           Allen, Mr. William Henry   1  35.0      0      0   \n",
       "\n",
       "             Ticket     Fare Embarked  Title Emb  FamilySize FamSize  \n",
       "0         A/5 21171   7.2500        S      0   3           2       1  \n",
       "1          PC 17599  71.2833        C      2   1           2       1  \n",
       "2  STON/O2. 3101282   7.9250        S      1   3           1       0  \n",
       "3            113803  53.1000        S      2   3           2       1  \n",
       "4            373450   8.0500        S      0   3           1       0  "
      ]
     },
     "execution_count": 56,
     "metadata": {},
     "output_type": "execute_result"
    }
   ],
   "source": [
    "data.head()"
   ]
  },
  {
   "cell_type": "code",
   "execution_count": 60,
   "metadata": {},
   "outputs": [],
   "source": [
    "features = [\"Pclass\",\"Sex\",\"Age\",\"Title\",\"Emb\",\"FamSize\"]"
   ]
  },
  {
   "cell_type": "code",
   "execution_count": 61,
   "metadata": {},
   "outputs": [
    {
     "data": {
      "text/plain": [
       "Pclass     0\n",
       "Sex        0\n",
       "Age        0\n",
       "Title      0\n",
       "Emb        0\n",
       "FamSize    0\n",
       "dtype: int64"
      ]
     },
     "execution_count": 61,
     "metadata": {},
     "output_type": "execute_result"
    }
   ],
   "source": [
    "# features = [\"AgeBands\",\"Sex\",\"Emb\",\"Pclass\",\"FamSize\",\"Title\"]\n",
    "# features = [\"Age\",\"Emb\",\"Pclass\",\"FamSize\",\"Title\"]\n",
    "test[features].isnull().sum()"
   ]
  },
  {
   "cell_type": "code",
   "execution_count": 59,
   "metadata": {},
   "outputs": [
    {
     "name": "stdout",
     "output_type": "stream",
     "text": [
      "Pclass\n",
      "1    0.629630\n",
      "2    0.472826\n",
      "3    0.242363\n",
      "Name: Survived, dtype: float64\n",
      "Sex\n",
      "0    0.742038\n",
      "1    0.188908\n",
      "Name: Survived, dtype: float64\n",
      "Age\n",
      "1.0     0.857143\n",
      "2.0     0.300000\n",
      "3.0     0.833333\n",
      "4.0     0.700000\n",
      "5.0     1.000000\n",
      "          ...   \n",
      "66.0    0.000000\n",
      "70.0    0.000000\n",
      "71.0    0.000000\n",
      "74.0    0.000000\n",
      "80.0    1.000000\n",
      "Name: Survived, Length: 70, dtype: float64\n",
      "Title\n",
      "0    0.156673\n",
      "1    0.704301\n",
      "2    0.792000\n",
      "3    0.575000\n",
      "4    0.428571\n",
      "5    0.000000\n",
      "6    0.500000\n",
      "Name: Survived, dtype: float64\n",
      "Emb\n",
      "1    0.553571\n",
      "2    0.389610\n",
      "3    0.339009\n",
      "Name: Survived, dtype: float64\n",
      "FamSize\n",
      "0    0.303538\n",
      "1    0.578767\n",
      "2    0.161290\n",
      "Name: Survived, dtype: float64\n"
     ]
    }
   ],
   "source": [
    "for col in features:\n",
    "    print(data.groupby(col).Survived.mean())"
   ]
  },
  {
   "cell_type": "markdown",
   "metadata": {},
   "source": [
    "## Classification"
   ]
  },
  {
   "cell_type": "code",
   "execution_count": 70,
   "metadata": {},
   "outputs": [],
   "source": [
    "from sklearn.preprocessing import StandardScaler\n",
    "from sklearn.pipeline import make_pipeline\n"
   ]
  },
  {
   "cell_type": "code",
   "execution_count": 71,
   "metadata": {},
   "outputs": [],
   "source": [
    "train_x, val_x, train_y, val_y = train_test_split(data[features],data[\"Survived\"])"
   ]
  },
  {
   "cell_type": "code",
   "execution_count": 72,
   "metadata": {},
   "outputs": [
    {
     "name": "stdout",
     "output_type": "stream",
     "text": [
      "80.72 86.38\n"
     ]
    },
    {
     "name": "stderr",
     "output_type": "stream",
     "text": [
      "c:\\Users\\Priya\\anaconda3\\lib\\site-packages\\sklearn\\neighbors\\_classification.py:228: FutureWarning: Unlike other reduction functions (e.g. `skew`, `kurtosis`), the default behavior of `mode` typically preserves the axis it acts along. In SciPy 1.11.0, this behavior will change: the default value of `keepdims` will become False, the `axis` over which the statistic is taken will be eliminated, and the value None will no longer be accepted. Set `keepdims` to True or False to avoid this warning.\n",
      "  mode, _ = stats.mode(_y[neigh_ind, k], axis=1)\n",
      "c:\\Users\\Priya\\anaconda3\\lib\\site-packages\\sklearn\\neighbors\\_classification.py:228: FutureWarning: Unlike other reduction functions (e.g. `skew`, `kurtosis`), the default behavior of `mode` typically preserves the axis it acts along. In SciPy 1.11.0, this behavior will change: the default value of `keepdims` will become False, the `axis` over which the statistic is taken will be eliminated, and the value None will no longer be accepted. Set `keepdims` to True or False to avoid this warning.\n",
      "  mode, _ = stats.mode(_y[neigh_ind, k], axis=1)\n"
     ]
    }
   ],
   "source": [
    "from sklearn.neighbors import KNeighborsClassifier\n",
    "clf_knn = make_pipeline(StandardScaler(), KNeighborsClassifier())\n",
    "clf_knn.fit(train_x,train_y)\n",
    "val_acc_knn = round(clf_knn.score(val_x,val_y)*100,2)\n",
    "train_acc_knn = round(clf_knn.score(train_x,train_y)*100,2)\n",
    "print(val_acc_knn,train_acc_knn)"
   ]
  },
  {
   "cell_type": "code",
   "execution_count": 73,
   "metadata": {},
   "outputs": [
    {
     "name": "stdout",
     "output_type": "stream",
     "text": [
      "78.92 80.99\n"
     ]
    }
   ],
   "source": [
    "from sklearn.linear_model import LogisticRegression\n",
    "clf_logreg = make_pipeline(StandardScaler(), LogisticRegression())\n",
    "clf_logreg.fit(train_x,train_y)\n",
    "val_acc_logreg = round(clf_logreg.score(val_x,val_y)*100,2)\n",
    "train_acc_logreg = round(clf_logreg.score(train_x,train_y)*100,2)\n",
    "print(val_acc_logreg,train_acc_logreg)"
   ]
  },
  {
   "cell_type": "code",
   "execution_count": 74,
   "metadata": {},
   "outputs": [
    {
     "name": "stdout",
     "output_type": "stream",
     "text": [
      "82.06 84.88\n"
     ]
    }
   ],
   "source": [
    "from sklearn.svm import SVC\n",
    "clf_svc = make_pipeline(StandardScaler(),SVC())\n",
    "clf_svc.fit(train_x,train_y)\n",
    "val_acc_svc = round(clf_svc.score(val_x,val_y)*100,2)\n",
    "train_acc_svc = round(clf_svc.score(train_x,train_y)*100,2)\n",
    "print(val_acc_svc,train_acc_svc)"
   ]
  },
  {
   "cell_type": "code",
   "execution_count": 75,
   "metadata": {},
   "outputs": [
    {
     "name": "stdout",
     "output_type": "stream",
     "text": [
      "78.92 94.16\n"
     ]
    }
   ],
   "source": [
    "from sklearn.tree import DecisionTreeClassifier\n",
    "clf_dt = make_pipeline(StandardScaler(),DecisionTreeClassifier())\n",
    "clf_dt.fit(train_x,train_y)\n",
    "val_acc_dt = round(clf_dt.score(val_x,val_y)*100,2)\n",
    "train_acc_dt = round(clf_dt.score(train_x,train_y)*100,2)\n",
    "print(val_acc_dt,train_acc_dt)"
   ]
  },
  {
   "cell_type": "code",
   "execution_count": 76,
   "metadata": {},
   "outputs": [
    {
     "name": "stdout",
     "output_type": "stream",
     "text": [
      "79.82 94.16\n"
     ]
    }
   ],
   "source": [
    "from sklearn.ensemble import RandomForestClassifier\n",
    "clf_rf = make_pipeline(StandardScaler(),RandomForestClassifier())\n",
    "clf_rf.fit(train_x,train_y)\n",
    "val_acc_rf = round(clf_rf.score(val_x,val_y)*100,2)\n",
    "train_acc_rf = round(clf_rf.score(train_x,train_y)*100,2)\n",
    "print(val_acc_rf,train_acc_rf)"
   ]
  },
  {
   "cell_type": "code",
   "execution_count": 84,
   "metadata": {},
   "outputs": [
    {
     "name": "stdout",
     "output_type": "stream",
     "text": [
      "[0]\tvalidation_0-logloss:0.57761\n",
      "[1]\tvalidation_0-logloss:0.52150\n",
      "[2]\tvalidation_0-logloss:0.49130\n",
      "[3]\tvalidation_0-logloss:0.46857\n",
      "[4]\tvalidation_0-logloss:0.46181\n",
      "[5]\tvalidation_0-logloss:0.45684\n",
      "[6]\tvalidation_0-logloss:0.45868\n",
      "[7]\tvalidation_0-logloss:0.46192\n",
      "[8]\tvalidation_0-logloss:0.46842\n",
      "[9]\tvalidation_0-logloss:0.47130\n",
      "[10]\tvalidation_0-logloss:0.47535\n",
      "[11]\tvalidation_0-logloss:0.47626\n",
      "[12]\tvalidation_0-logloss:0.47677\n",
      "[13]\tvalidation_0-logloss:0.47952\n",
      "[14]\tvalidation_0-logloss:0.47591\n",
      "[15]\tvalidation_0-logloss:0.47216\n",
      "80.72 87.57\n"
     ]
    }
   ],
   "source": [
    "import xgboost as xgb\n",
    "clf_xgb = xgb.XGBClassifier(tree_method=\"hist\",enable_categorical=True,early_stopping_rounds=10)\n",
    "clf_xgb.fit(train_x,train_y, eval_set=[(val_x,val_y)])\n",
    "val_acc_xgb = round(clf_xgb.score(val_x,val_y)*100,2)\n",
    "train_acc_xgb = round(clf_xgb.score(train_x,train_y)*100,2)\n",
    "print(val_acc_xgb,train_acc_xgb)\n"
   ]
  },
  {
   "cell_type": "code",
   "execution_count": 89,
   "metadata": {},
   "outputs": [
    {
     "name": "stdout",
     "output_type": "stream",
     "text": [
      "85.65 88.32\n"
     ]
    }
   ],
   "source": [
    "from sklearn.ensemble import GradientBoostingClassifier\n",
    "clf_gbc =make_pipeline(StandardScaler(),GradientBoostingClassifier())\n",
    "clf_gbc.fit(data[features],data[\"Survived\"])\n",
    "# clf_gbc.fit(train_x,train_y)\n",
    "# clf_gbc =GradientBoostingClassifier().fit(train_x,train_y)\n",
    "val_acc_gbc = round(clf_gbc.score(val_x,val_y)*100,2)\n",
    "train_acc_gbc = round(clf_gbc.score(train_x,train_y)*100,2)\n",
    "print(val_acc_gbc,train_acc_gbc)"
   ]
  },
  {
   "cell_type": "code",
   "execution_count": 93,
   "metadata": {},
   "outputs": [
    {
     "name": "stdout",
     "output_type": "stream",
     "text": [
      "80.27 89.52\n"
     ]
    }
   ],
   "source": [
    "# from sklearn.ensemble import GradientBoostingClassifier\n",
    "# clf_gbc =GradientBoostingClassifier()\n",
    "# # clf_gbc.fit(data[features],data[\"Survived\"])\n",
    "# clf_gbc.fit(train_x,train_y)\n",
    "# # clf_gbc =GradientBoostingClassifier().fit(train_x,train_y)\n",
    "# val_acc_gbc = round(clf_gbc.score(val_x,val_y)*100,2)\n",
    "# train_acc_gbc = round(clf_gbc.score(train_x,train_y)*100,2)\n",
    "# print(val_acc_gbc,train_acc_gbc)"
   ]
  },
  {
   "cell_type": "markdown",
   "metadata": {},
   "source": [
    "## Output Result"
   ]
  },
  {
   "cell_type": "code",
   "execution_count": 90,
   "metadata": {},
   "outputs": [],
   "source": [
    "# clf_knn = KNeighborsClassifier().fit(data[features],data[\"Survived\"])\n",
    "# clf = SVC().fit(data[features],data[\"Survived\"])\n",
    "# clf = clf_rf.fit(data[features],data[\"Survived\"])\n",
    "clf = clf_gbc\n",
    "result = clf.predict(test[features])"
   ]
  },
  {
   "cell_type": "code",
   "execution_count": 91,
   "metadata": {},
   "outputs": [],
   "source": [
    "output = pd.DataFrame( data={\"PassengerId\":test[\"PassengerId\"], \"Survived\":result} )\n",
    "output.to_csv(\"Output\\\\New\\\\\"+\"GBC.csv\", index=False, quoting=3)"
   ]
  },
  {
   "cell_type": "code",
   "execution_count": null,
   "metadata": {},
   "outputs": [],
   "source": [
    "clf = RandomForestClassifier().fit(data[features],data[\"Survived\"])\n",
    "result = clf.predict(test[features])"
   ]
  },
  {
   "cell_type": "code",
   "execution_count": null,
   "metadata": {},
   "outputs": [],
   "source": [
    "train_x.info()"
   ]
  },
  {
   "cell_type": "code",
   "execution_count": null,
   "metadata": {},
   "outputs": [],
   "source": [
    "# candidate_max_leaf_nodes = [5, 25, 50, 100, 250, 500]\n",
    "# candidate_estimators = [5,10,25,50,100,250]\n",
    "# t_b = np.inf\n",
    "# b_e = 0\n",
    "# for est in candidate_estimators:\n",
    "#     m_n = 0\n",
    "#     m_score = np.inf\n",
    "#     scores = []\n",
    "#     for nodes in candidate_max_leaf_nodes:\n",
    "#         forest = RandomForestClassifier(max_leaf_nodes=nodes, n_estimators=est)\n",
    "#         forest.fit(x,y)\n",
    "#         score = forest.score(val_x,val_y)\n",
    "#         scores.append(score)\n",
    "#         if score<m_score:\n",
    "#             m_n = nodes\n",
    "#             m_score = score\n",
    "#     if m_score<t_b:\n",
    "#         t_b = m_score\n",
    "#         b_e = est\n",
    "#     print(est,\" estimators, \",m_n,\" nodes with score: \", m_score)\n",
    "#     print(scores)\n",
    "# print(\"Best config: \",b_e)"
   ]
  },
  {
   "cell_type": "code",
   "execution_count": null,
   "metadata": {},
   "outputs": [],
   "source": [
    "result = clf.predict(test[features])"
   ]
  },
  {
   "cell_type": "code",
   "execution_count": null,
   "metadata": {},
   "outputs": [],
   "source": []
  },
  {
   "cell_type": "code",
   "execution_count": null,
   "metadata": {},
   "outputs": [],
   "source": []
  }
 ],
 "metadata": {
  "kernelspec": {
   "display_name": "base",
   "language": "python",
   "name": "python3"
  },
  "language_info": {
   "codemirror_mode": {
    "name": "ipython",
    "version": 3
   },
   "file_extension": ".py",
   "mimetype": "text/x-python",
   "name": "python",
   "nbconvert_exporter": "python",
   "pygments_lexer": "ipython3",
   "version": "3.9.13"
  }
 },
 "nbformat": 4,
 "nbformat_minor": 2
}
