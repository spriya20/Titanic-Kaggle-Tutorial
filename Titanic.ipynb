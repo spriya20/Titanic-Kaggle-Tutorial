{
 "cells": [
  {
   "cell_type": "code",
   "execution_count": 27,
   "metadata": {},
   "outputs": [],
   "source": [
    "import pandas as pd\n",
    "import numpy as np\n",
    "from sklearn.model_selection import train_test_split\n",
    "from sklearn.ensemble import RandomForestClassifier\n",
    "\n",
    "data = pd.read_csv(r\"data\\train.csv\", header=0,delimiter=\",\", quoting=1)\n",
    "# train, val = train_test_split(data)\n",
    "test = pd.read_csv(r\"data\\test.csv\", header=0,delimiter=\",\", quoting=1)"
   ]
  },
  {
   "cell_type": "code",
   "execution_count": null,
   "metadata": {},
   "outputs": [],
   "source": [
    "data.describe(include=[\"O\"])"
   ]
  },
  {
   "cell_type": "code",
   "execution_count": null,
   "metadata": {},
   "outputs": [],
   "source": [
    "data.info()"
   ]
  },
  {
   "cell_type": "code",
   "execution_count": 28,
   "metadata": {},
   "outputs": [
    {
     "data": {
      "text/plain": [
       "PassengerId      0\n",
       "Survived         0\n",
       "Pclass           0\n",
       "Name             0\n",
       "Sex              0\n",
       "Age            177\n",
       "SibSp            0\n",
       "Parch            0\n",
       "Ticket           0\n",
       "Fare             0\n",
       "Cabin          687\n",
       "Embarked         2\n",
       "dtype: int64"
      ]
     },
     "execution_count": 28,
     "metadata": {},
     "output_type": "execute_result"
    }
   ],
   "source": [
    "data.isnull().sum()"
   ]
  },
  {
   "cell_type": "code",
   "execution_count": 29,
   "metadata": {},
   "outputs": [
    {
     "data": {
      "text/plain": [
       "PassengerId      0\n",
       "Pclass           0\n",
       "Name             0\n",
       "Sex              0\n",
       "Age             86\n",
       "SibSp            0\n",
       "Parch            0\n",
       "Ticket           0\n",
       "Fare             1\n",
       "Cabin          327\n",
       "Embarked         0\n",
       "dtype: int64"
      ]
     },
     "execution_count": 29,
     "metadata": {},
     "output_type": "execute_result"
    }
   ],
   "source": [
    "test.isnull().sum()"
   ]
  },
  {
   "cell_type": "code",
   "execution_count": null,
   "metadata": {},
   "outputs": [],
   "source": [
    "survived = data[data[\"Survived\"]==1]\n",
    "not_survived = data[data[\"Survived\"]==0]\n",
    "print(len(survived),len(not_survived),len(data))"
   ]
  },
  {
   "cell_type": "code",
   "execution_count": null,
   "metadata": {},
   "outputs": [],
   "source": [
    "data.groupby(\"Pclass\").Survived.mean()"
   ]
  },
  {
   "cell_type": "code",
   "execution_count": null,
   "metadata": {},
   "outputs": [],
   "source": [
    "data[[\"Sex\",\"Survived\"]].groupby([\"Sex\"],as_index=False).mean()\n"
   ]
  },
  {
   "cell_type": "code",
   "execution_count": null,
   "metadata": {},
   "outputs": [],
   "source": [
    "pd.crosstab(data[\"Sex\"],[data[\"Pclass\"],data[\"Survived\"]])"
   ]
  },
  {
   "cell_type": "code",
   "execution_count": null,
   "metadata": {},
   "outputs": [],
   "source": [
    "data[[\"Embarked\",\"Survived\"]].groupby(\"Embarked\").mean()"
   ]
  },
  {
   "cell_type": "code",
   "execution_count": null,
   "metadata": {},
   "outputs": [],
   "source": [
    "data.Embarked.value_counts()"
   ]
  },
  {
   "cell_type": "code",
   "execution_count": null,
   "metadata": {},
   "outputs": [],
   "source": [
    "data.groupby(\"Pclass\").Fare.describe(include=\"all\")"
   ]
  },
  {
   "cell_type": "code",
   "execution_count": 31,
   "metadata": {},
   "outputs": [
    {
     "data": {
      "text/plain": [
       "PassengerId      0\n",
       "Pclass           0\n",
       "Name             0\n",
       "Sex              0\n",
       "Age              0\n",
       "SibSp            0\n",
       "Parch            0\n",
       "Ticket           0\n",
       "Fare             1\n",
       "Cabin          327\n",
       "Embarked         0\n",
       "Emb              0\n",
       "FamilySize       0\n",
       "FamSize          0\n",
       "AgeBands         0\n",
       "dtype: int64"
      ]
     },
     "execution_count": 31,
     "metadata": {},
     "output_type": "execute_result"
    }
   ],
   "source": [
    "test.isnull().sum()\n",
    "# data.describe(include=\"all\")\n",
    "# data.info()"
   ]
  },
  {
   "cell_type": "code",
   "execution_count": null,
   "metadata": {},
   "outputs": [],
   "source": [
    "agebands = [0,1,2,3,4,5]\n",
    "data[\"AgeBands\"]=pd.cut(data[\"Age\"],bins=[0,5,18,35,50,65,85],labels=agebands)\n",
    "# data[\"AgeBands\"]=pd.cut(data[\"Age\"],bins=10)"
   ]
  },
  {
   "cell_type": "code",
   "execution_count": null,
   "metadata": {},
   "outputs": [],
   "source": [
    "data[[\"Survived\",\"AgeBands\"]].groupby(\"AgeBands\").mean()"
   ]
  },
  {
   "cell_type": "code",
   "execution_count": 30,
   "metadata": {},
   "outputs": [],
   "source": [
    "train_test_data = [data, test]\n",
    "for dataset in train_test_data:\n",
    "    dataset[\"Sex\"] = dataset[\"Sex\"].map({\"female\":True, \"male\":False})\n",
    "    dataset[\"Embarked\"] = dataset.Embarked.fillna(\"S\")\n",
    "    dataset[\"Emb\"] = dataset[\"Embarked\"].map({\"C\":1,\"Q\":2,\"S\":3}).astype(int)\n",
    "    dataset[\"Age\"] = dataset[\"Age\"].fillna(30)\n",
    "    dataset[\"FamilySize\"] = dataset.SibSp + dataset.Parch +1\n",
    "    famlabels = [0,1,2]\n",
    "    dataset[\"FamSize\"] = pd.cut(dataset[\"FamilySize\"],bins=[0,1,4,11],labels=famlabels)\n",
    "    agebands = [0,1,2,3,4,5]\n",
    "    dataset[\"AgeBands\"]=pd.cut(dataset[\"Age\"],bins=[0,5,18,35,50,65,85],labels=agebands)\n",
    "\n",
    "    "
   ]
  },
  {
   "cell_type": "code",
   "execution_count": 46,
   "metadata": {},
   "outputs": [
    {
     "data": {
      "text/plain": [
       "AgeBands    0\n",
       "Sex         0\n",
       "Emb         0\n",
       "Pclass      0\n",
       "FamSize     0\n",
       "dtype: int64"
      ]
     },
     "execution_count": 46,
     "metadata": {},
     "output_type": "execute_result"
    }
   ],
   "source": [
    "features = [\"AgeBands\",\"Sex\",\"Emb\",\"Pclass\",\"FamSize\"]\n",
    "data[features].isnull().sum()"
   ]
  },
  {
   "cell_type": "code",
   "execution_count": 45,
   "metadata": {},
   "outputs": [
    {
     "name": "stdout",
     "output_type": "stream",
     "text": [
      "          Survived\n",
      "AgeBands          \n",
      "0         0.704545\n",
      "1         0.410526\n",
      "2         0.353271\n",
      "3         0.398693\n",
      "4         0.375000\n",
      "5         0.125000\n",
      "       Survived\n",
      "Sex            \n",
      "False  0.188908\n",
      "True   0.742038\n",
      "     Survived\n",
      "Emb          \n",
      "1    0.553571\n",
      "2    0.389610\n",
      "3    0.339009\n",
      "        Survived\n",
      "Pclass          \n",
      "1       0.629630\n",
      "2       0.472826\n",
      "3       0.242363\n",
      "         Survived\n",
      "FamSize          \n",
      "0        0.303538\n",
      "1        0.578767\n",
      "2        0.161290\n"
     ]
    }
   ],
   "source": [
    "for feat in features:\n",
    "    print(data[[\"Survived\",feat]].groupby(feat).mean())"
   ]
  },
  {
   "cell_type": "code",
   "execution_count": 42,
   "metadata": {},
   "outputs": [],
   "source": [
    "train_x, val_x, train_y, val_y = train_test_split(data[features],data[\"Survived\"])"
   ]
  },
  {
   "cell_type": "code",
   "execution_count": 50,
   "metadata": {},
   "outputs": [
    {
     "name": "stdout",
     "output_type": "stream",
     "text": [
      "76.23 84.28\n"
     ]
    },
    {
     "name": "stderr",
     "output_type": "stream",
     "text": [
      "c:\\Users\\Priya\\anaconda3\\lib\\site-packages\\sklearn\\utils\\validation.py:964: FutureWarning: Arrays of bytes/strings is being converted to decimal numbers if dtype='numeric'. This behavior is deprecated in 0.24 and will be removed in 1.1 (renaming of 0.26). Please convert your data to numeric values explicitly instead.\n",
      "  X = check_array(\n",
      "c:\\Users\\Priya\\anaconda3\\lib\\site-packages\\sklearn\\base.py:566: FutureWarning: Arrays of bytes/strings is being converted to decimal numbers if dtype='numeric'. This behavior is deprecated in 0.24 and will be removed in 1.1 (renaming of 0.26). Please convert your data to numeric values explicitly instead.\n",
      "  X = check_array(X, **check_params)\n",
      "c:\\Users\\Priya\\anaconda3\\lib\\site-packages\\sklearn\\neighbors\\_classification.py:228: FutureWarning: Unlike other reduction functions (e.g. `skew`, `kurtosis`), the default behavior of `mode` typically preserves the axis it acts along. In SciPy 1.11.0, this behavior will change: the default value of `keepdims` will become False, the `axis` over which the statistic is taken will be eliminated, and the value None will no longer be accepted. Set `keepdims` to True or False to avoid this warning.\n",
      "  mode, _ = stats.mode(_y[neigh_ind, k], axis=1)\n",
      "c:\\Users\\Priya\\anaconda3\\lib\\site-packages\\sklearn\\base.py:566: FutureWarning: Arrays of bytes/strings is being converted to decimal numbers if dtype='numeric'. This behavior is deprecated in 0.24 and will be removed in 1.1 (renaming of 0.26). Please convert your data to numeric values explicitly instead.\n",
      "  X = check_array(X, **check_params)\n",
      "c:\\Users\\Priya\\anaconda3\\lib\\site-packages\\sklearn\\neighbors\\_classification.py:228: FutureWarning: Unlike other reduction functions (e.g. `skew`, `kurtosis`), the default behavior of `mode` typically preserves the axis it acts along. In SciPy 1.11.0, this behavior will change: the default value of `keepdims` will become False, the `axis` over which the statistic is taken will be eliminated, and the value None will no longer be accepted. Set `keepdims` to True or False to avoid this warning.\n",
      "  mode, _ = stats.mode(_y[neigh_ind, k], axis=1)\n"
     ]
    }
   ],
   "source": [
    "from sklearn.neighbors import KNeighborsClassifier\n",
    "clf_knn = KNeighborsClassifier().fit(train_x,train_y)\n",
    "val_acc_knn = round(clf_knn.score(val_x,val_y)*100,2)\n",
    "train_acc_knn = round(clf_knn.score(train_x,train_y)*100,2)\n",
    "print(val_acc_knn,train_acc_knn)"
   ]
  },
  {
   "cell_type": "code",
   "execution_count": 51,
   "metadata": {},
   "outputs": [
    {
     "name": "stdout",
     "output_type": "stream",
     "text": [
      "78.92 80.39\n"
     ]
    },
    {
     "name": "stderr",
     "output_type": "stream",
     "text": [
      "c:\\Users\\Priya\\anaconda3\\lib\\site-packages\\sklearn\\base.py:566: FutureWarning: Arrays of bytes/strings is being converted to decimal numbers if dtype='numeric'. This behavior is deprecated in 0.24 and will be removed in 1.1 (renaming of 0.26). Please convert your data to numeric values explicitly instead.\n",
      "  X = check_array(X, **check_params)\n",
      "c:\\Users\\Priya\\anaconda3\\lib\\site-packages\\sklearn\\base.py:566: FutureWarning: Arrays of bytes/strings is being converted to decimal numbers if dtype='numeric'. This behavior is deprecated in 0.24 and will be removed in 1.1 (renaming of 0.26). Please convert your data to numeric values explicitly instead.\n",
      "  X = check_array(X, **check_params)\n"
     ]
    }
   ],
   "source": [
    "from sklearn.linear_model import LogisticRegression\n",
    "clf_logreg = LogisticRegression().fit(train_x,train_y)\n",
    "val_acc_logreg = round(clf_logreg.score(val_x,val_y)*100,2)\n",
    "train_acc_logreg = round(clf_logreg.score(train_x,train_y)*100,2)\n",
    "print(val_acc_logreg,train_acc_logreg)"
   ]
  },
  {
   "cell_type": "code",
   "execution_count": 54,
   "metadata": {},
   "outputs": [
    {
     "name": "stdout",
     "output_type": "stream",
     "text": [
      "80.27 82.93\n"
     ]
    }
   ],
   "source": [
    "from sklearn.svm import SVC\n",
    "clf_svc = SVC().fit(train_x,train_y)\n",
    "val_acc_svc = round(clf_svc.score(val_x,val_y)*100,2)\n",
    "train_acc_svc = round(clf_svc.score(train_x,train_y)*100,2)\n",
    "print(val_acc_svc,train_acc_svc)"
   ]
  },
  {
   "cell_type": "code",
   "execution_count": 53,
   "metadata": {},
   "outputs": [
    {
     "name": "stdout",
     "output_type": "stream",
     "text": [
      "75.78 85.48\n"
     ]
    }
   ],
   "source": [
    "from sklearn.tree import DecisionTreeClassifier\n",
    "clf_dt = DecisionTreeClassifier().fit(train_x,train_y)\n",
    "val_acc_dt = round(clf_dt.score(val_x,val_y)*100,2)\n",
    "train_acc_dt = round(clf_dt.score(train_x,train_y)*100,2)\n",
    "print(val_acc_dt,train_acc_dt)"
   ]
  },
  {
   "cell_type": "code",
   "execution_count": 55,
   "metadata": {},
   "outputs": [
    {
     "name": "stdout",
     "output_type": "stream",
     "text": [
      "78.92 85.48\n"
     ]
    }
   ],
   "source": [
    "clf_rf = RandomForestClassifier().fit(train_x,train_y)\n",
    "val_acc_rf = round(clf_rf.score(val_x,val_y)*100,2)\n",
    "train_acc_rf = round(clf_rf.score(train_x,train_y)*100,2)\n",
    "print(val_acc_rf,train_acc_rf)"
   ]
  },
  {
   "cell_type": "code",
   "execution_count": 57,
   "metadata": {},
   "outputs": [],
   "source": [
    "clf = SVC().fit(data[features],data[\"Survived\"])\n",
    "result = clf.predict(test[features])"
   ]
  },
  {
   "cell_type": "code",
   "execution_count": 60,
   "metadata": {},
   "outputs": [],
   "source": [
    "output = pd.DataFrame( data={\"PassengerId\":test[\"PassengerId\"], \"Survived\":result} )\n",
    "output.to_csv(\"Output\\\\\"+\"RandFor.csv\", index=False, quoting=3)"
   ]
  },
  {
   "cell_type": "code",
   "execution_count": 59,
   "metadata": {},
   "outputs": [],
   "source": [
    "clf = RandomForestClassifier().fit(data[features],data[\"Survived\"])\n",
    "result = clf.predict(test[features])"
   ]
  },
  {
   "cell_type": "code",
   "execution_count": null,
   "metadata": {},
   "outputs": [],
   "source": [
    "# candidate_max_leaf_nodes = [5, 25, 50, 100, 250, 500]\n",
    "# candidate_estimators = [5,10,25,50,100,250]\n",
    "# t_b = np.inf\n",
    "# b_e = 0\n",
    "# for est in candidate_estimators:\n",
    "#     m_n = 0\n",
    "#     m_score = np.inf\n",
    "#     scores = []\n",
    "#     for nodes in candidate_max_leaf_nodes:\n",
    "#         forest = RandomForestClassifier(max_leaf_nodes=nodes, n_estimators=est)\n",
    "#         forest.fit(x,y)\n",
    "#         score = forest.score(val_x,val_y)\n",
    "#         scores.append(score)\n",
    "#         if score<m_score:\n",
    "#             m_n = nodes\n",
    "#             m_score = score\n",
    "#     if m_score<t_b:\n",
    "#         t_b = m_score\n",
    "#         b_e = est\n",
    "#     print(est,\" estimators, \",m_n,\" nodes with score: \", m_score)\n",
    "#     print(scores)\n",
    "# print(\"Best config: \",b_e)"
   ]
  },
  {
   "cell_type": "code",
   "execution_count": null,
   "metadata": {},
   "outputs": [],
   "source": [
    "forest = RandomForestClassifier(max_leaf_nodes=5, n_estimators=5)\n",
    "forest.fit(train_x,train_y)"
   ]
  },
  {
   "cell_type": "code",
   "execution_count": null,
   "metadata": {},
   "outputs": [],
   "source": [
    "forest.fit(train_x,train_y)\n",
    "pred_val = forest.predict(val_x)\n",
    "pred_train = forest.predict(train_x)"
   ]
  },
  {
   "cell_type": "code",
   "execution_count": null,
   "metadata": {},
   "outputs": [],
   "source": [
    "from sklearn.metrics import log_loss\n",
    "val_error = log_loss(val_y,pred_val)\n",
    "train_error = log_loss(train_y,pred_train)\n",
    "print(\"ValError:\",val_error,\"\\nTrainError:\",train_error)"
   ]
  },
  {
   "cell_type": "code",
   "execution_count": null,
   "metadata": {},
   "outputs": [],
   "source": [
    "result = forest.predict(test_x)"
   ]
  },
  {
   "cell_type": "code",
   "execution_count": null,
   "metadata": {},
   "outputs": [],
   "source": [
    "output = pd.DataFrame( data={\"PassengerId\":test[\"PassengerId\"], \"Survived\":result} )\n",
    "output.to_csv(\"Output\\\\\"+\"RF_5_5.csv\", index=False, quoting=3)"
   ]
  }
 ],
 "metadata": {
  "kernelspec": {
   "display_name": "base",
   "language": "python",
   "name": "python3"
  },
  "language_info": {
   "codemirror_mode": {
    "name": "ipython",
    "version": 3
   },
   "file_extension": ".py",
   "mimetype": "text/x-python",
   "name": "python",
   "nbconvert_exporter": "python",
   "pygments_lexer": "ipython3",
   "version": "3.9.13"
  }
 },
 "nbformat": 4,
 "nbformat_minor": 2
}
